{
 "cells": [
  {
   "cell_type": "code",
   "execution_count": 1,
   "metadata": {},
   "outputs": [],
   "source": [
    "from gym_match3.envs import Match3Env\n",
    "import gym\n",
    "import matplotlib.pyplot as plt\n",
    "\n",
    "from matplotlib import style\n",
    "import numpy as np\n",
    "\n",
    "env = Match3Env()\n",
    "#obs, reward, done, info = env.step(0) \n",
    "import torch\n",
    "import cv2\n",
    "\n",
    "from PIL import Image\n",
    "\n",
    "from gym_match3.envs.levels import LEVELS #  default levels\n",
    "from gym_match3.envs.levels import Match3Levels, Level\n",
    "\n",
    "\n",
    "from gym_match3.envs.game import (Board,\n",
    "                                  RandomBoard,\n",
    "                                  CustomBoard,\n",
    "                                  Point,\n",
    "                                  Cell,\n",
    "                                  AbstractSearcher,\n",
    "                                  MatchesSearcher)\n",
    "\n",
    "\n",
    "from gym_match3.envs.game import OutOfBoardError, ImmovableShapeError"
   ]
  },
  {
   "cell_type": "code",
   "execution_count": 2,
   "metadata": {},
   "outputs": [
    {
     "data": {
      "text/plain": [
       "[(0, frozenset({(0, 1), (1, 1)})),\n",
       " (1, frozenset({(4, 4), (5, 4)})),\n",
       " (2, frozenset({(5, 3), (5, 4)})),\n",
       " (3, frozenset({(7, 2), (7, 3)})),\n",
       " (4, frozenset({(4, 7), (5, 7)})),\n",
       " (5, frozenset({(4, 5), (4, 6)})),\n",
       " (6, frozenset({(0, 5), (1, 5)})),\n",
       " (7, frozenset({(1, 0), (2, 0)})),\n",
       " (8, frozenset({(2, 2), (3, 2)})),\n",
       " (9, frozenset({(5, 3), (6, 3)})),\n",
       " (10, frozenset({(0, 0), (1, 0)})),\n",
       " (11, frozenset({(2, 5), (2, 6)})),\n",
       " (12, frozenset({(4, 1), (4, 2)})),\n",
       " (13, frozenset({(5, 0), (6, 0)})),\n",
       " (14, frozenset({(2, 0), (2, 1)})),\n",
       " (15, frozenset({(7, 0), (7, 1)})),\n",
       " (16, frozenset({(2, 7), (3, 7)})),\n",
       " (17, frozenset({(3, 4), (4, 4)})),\n",
       " (18, frozenset({(5, 6), (5, 7)})),\n",
       " (19, frozenset({(6, 5), (7, 5)})),\n",
       " (20, frozenset({(6, 7), (7, 7)})),\n",
       " (21, frozenset({(4, 1), (5, 1)})),\n",
       " (22, frozenset({(0, 4), (0, 5)})),\n",
       " (23, frozenset({(1, 3), (1, 4)})),\n",
       " (24, frozenset({(1, 6), (2, 6)})),\n",
       " (25, frozenset({(0, 7), (1, 7)})),\n",
       " (26, frozenset({(3, 0), (3, 1)})),\n",
       " (27, frozenset({(4, 2), (5, 2)})),\n",
       " (28, frozenset({(3, 3), (3, 4)})),\n",
       " (29, frozenset({(2, 3), (3, 3)})),\n",
       " (30, frozenset({(5, 1), (5, 2)})),\n",
       " (31, frozenset({(3, 1), (3, 2)})),\n",
       " (32, frozenset({(0, 3), (1, 3)})),\n",
       " (33, frozenset({(6, 3), (6, 4)})),\n",
       " (34, frozenset({(6, 1), (7, 1)})),\n",
       " (35, frozenset({(3, 0), (4, 0)})),\n",
       " (36, frozenset({(3, 4), (3, 5)})),\n",
       " (37, frozenset({(5, 4), (6, 4)})),\n",
       " (38, frozenset({(3, 7), (4, 7)})),\n",
       " (39, frozenset({(4, 4), (4, 5)})),\n",
       " (40, frozenset({(2, 4), (2, 5)})),\n",
       " (41, frozenset({(3, 6), (3, 7)})),\n",
       " (42, frozenset({(5, 2), (6, 2)})),\n",
       " (43, frozenset({(5, 6), (6, 6)})),\n",
       " (44, frozenset({(1, 7), (2, 7)})),\n",
       " (45, frozenset({(4, 0), (5, 0)})),\n",
       " (46, frozenset({(6, 4), (7, 4)})),\n",
       " (47, frozenset({(7, 1), (7, 2)})),\n",
       " (48, frozenset({(0, 0), (0, 1)})),\n",
       " (49, frozenset({(1, 4), (1, 5)})),\n",
       " (50, frozenset({(0, 6), (0, 7)})),\n",
       " (51, frozenset({(3, 6), (4, 6)})),\n",
       " (52, frozenset({(2, 0), (3, 0)})),\n",
       " (53, frozenset({(3, 5), (3, 6)})),\n",
       " (54, frozenset({(4, 2), (4, 3)})),\n",
       " (55, frozenset({(1, 5), (1, 6)})),\n",
       " (56, frozenset({(2, 5), (3, 5)})),\n",
       " (57, frozenset({(3, 3), (4, 3)})),\n",
       " (58, frozenset({(6, 1), (6, 2)})),\n",
       " (59, frozenset({(6, 6), (7, 6)})),\n",
       " (60, frozenset({(2, 4), (3, 4)})),\n",
       " (61, frozenset({(6, 4), (6, 5)})),\n",
       " (62, frozenset({(2, 3), (2, 4)})),\n",
       " (63, frozenset({(7, 4), (7, 5)})),\n",
       " (64, frozenset({(6, 6), (6, 7)})),\n",
       " (65, frozenset({(7, 3), (7, 4)})),\n",
       " (66, frozenset({(4, 5), (5, 5)})),\n",
       " (67, frozenset({(0, 3), (0, 4)})),\n",
       " (68, frozenset({(2, 6), (2, 7)})),\n",
       " (69, frozenset({(6, 0), (6, 1)})),\n",
       " (70, frozenset({(2, 1), (3, 1)})),\n",
       " (71, frozenset({(5, 5), (6, 5)})),\n",
       " (72, frozenset({(5, 4), (5, 5)})),\n",
       " (73, frozenset({(0, 5), (0, 6)})),\n",
       " (74, frozenset({(1, 0), (1, 1)})),\n",
       " (75, frozenset({(4, 6), (4, 7)})),\n",
       " (76, frozenset({(4, 3), (5, 3)})),\n",
       " (77, frozenset({(7, 6), (7, 7)})),\n",
       " (78, frozenset({(6, 3), (7, 3)})),\n",
       " (79, frozenset({(0, 6), (1, 6)})),\n",
       " (80, frozenset({(5, 0), (5, 1)})),\n",
       " (81, frozenset({(0, 1), (0, 2)})),\n",
       " (82, frozenset({(7, 5), (7, 6)})),\n",
       " (83, frozenset({(6, 2), (7, 2)})),\n",
       " (84, frozenset({(0, 2), (1, 2)})),\n",
       " (85, frozenset({(2, 2), (2, 3)})),\n",
       " (86, frozenset({(0, 2), (0, 3)})),\n",
       " (87, frozenset({(1, 4), (2, 4)})),\n",
       " (88, frozenset({(6, 0), (7, 0)})),\n",
       " (89, frozenset({(5, 1), (6, 1)})),\n",
       " (90, frozenset({(2, 1), (2, 2)})),\n",
       " (91, frozenset({(1, 1), (1, 2)})),\n",
       " (92, frozenset({(5, 5), (5, 6)})),\n",
       " (93, frozenset({(2, 6), (3, 6)})),\n",
       " (94, frozenset({(4, 3), (4, 4)})),\n",
       " (95, frozenset({(6, 2), (6, 3)})),\n",
       " (96, frozenset({(4, 6), (5, 6)})),\n",
       " (97, frozenset({(6, 5), (6, 6)})),\n",
       " (98, frozenset({(0, 4), (1, 4)})),\n",
       " (99, frozenset({(1, 2), (1, 3)})),\n",
       " (100, frozenset({(1, 1), (2, 1)})),\n",
       " (101, frozenset({(4, 0), (4, 1)})),\n",
       " (102, frozenset({(1, 2), (2, 2)})),\n",
       " (103, frozenset({(5, 2), (5, 3)})),\n",
       " (104, frozenset({(1, 5), (2, 5)})),\n",
       " (105, frozenset({(1, 3), (2, 3)})),\n",
       " (106, frozenset({(1, 6), (1, 7)})),\n",
       " (107, frozenset({(3, 5), (4, 5)})),\n",
       " (108, frozenset({(3, 2), (3, 3)})),\n",
       " (109, frozenset({(3, 2), (4, 2)})),\n",
       " (110, frozenset({(5, 7), (6, 7)})),\n",
       " (111, frozenset({(3, 1), (4, 1)}))]"
      ]
     },
     "execution_count": 2,
     "metadata": {},
     "output_type": "execute_result"
    }
   ],
   "source": [
    "list(enumerate(env.get_available_actions()))"
   ]
  },
  {
   "cell_type": "code",
   "execution_count": 3,
   "metadata": {},
   "outputs": [
    {
     "data": {
      "text/plain": [
       "[frozenset({(2, 0), (2, 1)}),\n",
       " frozenset({(6, 2), (7, 2)}),\n",
       " frozenset({(7, 1), (7, 2)}),\n",
       " frozenset({(6, 4), (7, 4)}),\n",
       " frozenset({(4, 0), (5, 0)}),\n",
       " frozenset({(5, 1), (5, 2)}),\n",
       " frozenset({(3, 0), (3, 1)}),\n",
       " frozenset({(3, 5), (4, 5)}),\n",
       " frozenset({(2, 5), (2, 6)}),\n",
       " frozenset({(6, 3), (7, 3)}),\n",
       " frozenset({(7, 2), (7, 3)}),\n",
       " frozenset({(4, 7), (5, 7)}),\n",
       " frozenset({(3, 2), (4, 2)}),\n",
       " frozenset({(1, 2), (2, 2)})]"
      ]
     },
     "execution_count": 3,
     "metadata": {},
     "output_type": "execute_result"
    }
   ],
   "source": [
    "env.get_validate_actions()"
   ]
  },
  {
   "cell_type": "code",
   "execution_count": 92,
   "metadata": {},
   "outputs": [
    {
     "data": {
      "text/plain": [
       "frozenset({(2, 0), (2, 1)})"
      ]
     },
     "execution_count": 92,
     "metadata": {},
     "output_type": "execute_result"
    }
   ],
   "source": [
    "env.get_action(14)"
   ]
  },
  {
   "cell_type": "code",
   "execution_count": 99,
   "metadata": {},
   "outputs": [
    {
     "name": "stdout",
     "output_type": "stream",
     "text": [
      "2\n"
     ]
    }
   ],
   "source": [
    "if env.get_action(13) not in env.get_validate_actions():\n",
    "    print(2)"
   ]
  },
  {
   "cell_type": "code",
   "execution_count": 4,
   "metadata": {},
   "outputs": [],
   "source": [
    "directions = env.get_directions(board_ndim=2)"
   ]
  },
  {
   "cell_type": "code",
   "execution_count": 5,
   "metadata": {},
   "outputs": [
    {
     "ename": "NameError",
     "evalue": "name 'board_3x3_zeros' is not defined",
     "output_type": "error",
     "traceback": [
      "\u001b[0;31m---------------------------------------------------------------------------\u001b[0m",
      "\u001b[0;31mNameError\u001b[0m                                 Traceback (most recent call last)",
      "\u001b[0;32m<ipython-input-5-4381a4ff9418>\u001b[0m in \u001b[0;36m<module>\u001b[0;34m\u001b[0m\n\u001b[0;32m----> 1\u001b[0;31m \u001b[0menv\u001b[0m\u001b[0;34m.\u001b[0m\u001b[0mgame\u001b[0m\u001b[0;34m.\u001b[0m\u001b[0mmv_searcher\u001b[0m\u001b[0;34m.\u001b[0m\u001b[0mscan_board_for_matches\u001b[0m\u001b[0;34m(\u001b[0m\u001b[0mboard_3x3_zeros\u001b[0m\u001b[0;34m)\u001b[0m\u001b[0;34m\u001b[0m\u001b[0;34m\u001b[0m\u001b[0m\n\u001b[0m",
      "\u001b[0;31mNameError\u001b[0m: name 'board_3x3_zeros' is not defined"
     ]
    }
   ],
   "source": [
    "\n",
    "env.game.mv_searcher.scan_board_for_matches(board_3x3_zeros)"
   ]
  },
  {
   "cell_type": "code",
   "execution_count": 6,
   "metadata": {},
   "outputs": [
    {
     "data": {
      "text/plain": [
       "array([[4., 4., 3., 0., 2., 1., 1., 4.],\n",
       "       [0., 2., 0., 0., 3., 4., 3., 4.],\n",
       "       [1., 0., 4., 2., 3., 4., 0., 2.],\n",
       "       [0., 2., 1., 0., 1., 1., 4., 2.],\n",
       "       [4., 4., 1., 4., 4., 0., 0., 3.],\n",
       "       [0., 2., 3., 4., 4., 0., 4., 3.],\n",
       "       [2., 0., 2., 1., 1., 4., 1., 4.],\n",
       "       [4., 2., 2., 4., 0., 4., 4., 0.]])"
      ]
     },
     "execution_count": 6,
     "metadata": {},
     "output_type": "execute_result"
    }
   ],
   "source": [
    "env.get_board()"
   ]
  },
  {
   "cell_type": "code",
   "execution_count": 42,
   "metadata": {},
   "outputs": [
    {
     "data": {
      "text/plain": [
       "{((0, 3), (1, 0)),\n",
       " ((1, 2), (0, 1)),\n",
       " ((1, 2), (1, 0)),\n",
       " ((1, 3), (-1, 0)),\n",
       " ((1, 3), (0, -1)),\n",
       " ((2, 2), (-1, 0))}"
      ]
     },
     "execution_count": 42,
     "metadata": {},
     "output_type": "execute_result"
    }
   ],
   "source": [
    "env.game.get_possible_moves()\n",
    "\n",
    "\n"
   ]
  },
  {
   "cell_type": "code",
   "execution_count": 14,
   "metadata": {},
   "outputs": [
    {
     "data": {
      "text/plain": [
       "{((1, 0), (1, 0)),\n",
       " ((1, 1), (0, 1)),\n",
       " ((1, 2), (0, -1)),\n",
       " ((2, 0), (-1, 0)),\n",
       " ((2, 0), (0, 1)),\n",
       " ((2, 1), (0, -1)),\n",
       " ((2, 1), (1, 0)),\n",
       " ((2, 2), (1, 0)),\n",
       " ((3, 0), (0, 1)),\n",
       " ((3, 1), (-1, 0)),\n",
       " ((3, 1), (0, -1)),\n",
       " ((3, 2), (-1, 0)),\n",
       " ((4, 2), (0, 1)),\n",
       " ((4, 3), (0, -1))}"
      ]
     },
     "execution_count": 14,
     "metadata": {},
     "output_type": "execute_result"
    }
   ],
   "source": [
    "\n",
    "tempboard = CustomBoard(board=env.get_board(), n_shapes=4)\n",
    "\n",
    "env.game.mv_searcher.search_moves(board=tempboard, all_moves=True)"
   ]
  },
  {
   "cell_type": "code",
   "execution_count": 55,
   "metadata": {},
   "outputs": [
    {
     "name": "stdout",
     "output_type": "stream",
     "text": [
      "((1, 2), (0, 1))\n",
      "((1, 3), (0, -1))\n",
      "((1, 2), (1, 0))\n",
      "((2, 2), (-1, 0))\n",
      "((0, 3), (1, 0))\n",
      "((1, 3), (-1, 0))\n"
     ]
    }
   ],
   "source": [
    "for i in possible:\n",
    "    print(i)"
   ]
  },
  {
   "cell_type": "code",
   "execution_count": 60,
   "metadata": {},
   "outputs": [
    {
     "ename": "TypeError",
     "evalue": "__init__() missing 1 required positional argument: 'col'",
     "output_type": "error",
     "traceback": [
      "\u001b[0;31m---------------------------------------------------------------------------\u001b[0m",
      "\u001b[0;31mTypeError\u001b[0m                                 Traceback (most recent call last)",
      "\u001b[0;32m<ipython-input-60-44f4881da262>\u001b[0m in \u001b[0;36m<module>\u001b[0;34m\u001b[0m\n\u001b[0;32m----> 1\u001b[0;31m \u001b[0mPoint\u001b[0m\u001b[0;34m(\u001b[0m\u001b[0;34m[\u001b[0m\u001b[0;36m0\u001b[0m\u001b[0;34m,\u001b[0m \u001b[0;36m1\u001b[0m\u001b[0;34m]\u001b[0m\u001b[0;34m)\u001b[0m\u001b[0;34m\u001b[0m\u001b[0;34m\u001b[0m\u001b[0m\n\u001b[0m",
      "\u001b[0;31mTypeError\u001b[0m: __init__() missing 1 required positional argument: 'col'"
     ]
    }
   ],
   "source": []
  },
  {
   "cell_type": "code",
   "execution_count": 92,
   "metadata": {},
   "outputs": [
    {
     "data": {
      "text/plain": [
       "{((0, 3), (1, 0)),\n",
       " ((1, 2), (0, 1)),\n",
       " ((1, 2), (1, 0)),\n",
       " ((1, 3), (-1, 0)),\n",
       " ((1, 3), (0, -1)),\n",
       " ((2, 2), (-1, 0))}"
      ]
     },
     "execution_count": 92,
     "metadata": {},
     "output_type": "execute_result"
    }
   ],
   "source": [
    "possible = env.game.get_possible_moves()\n",
    "possible"
   ]
  },
  {
   "cell_type": "code",
   "execution_count": 108,
   "metadata": {},
   "outputs": [
    {
     "name": "stdout",
     "output_type": "stream",
     "text": [
      "(1, 2) (0, 1)\n",
      "(1, 3) (0, -1)\n",
      "(1, 2) (1, 0)\n",
      "(2, 2) (-1, 0)\n",
      "(0, 3) (1, 0)\n",
      "(1, 3) (-1, 0)\n"
     ]
    }
   ],
   "source": [
    "possible = env.game.get_possible_moves()\n",
    "\n",
    "for i, j in possible:\n",
    "    temp2 =  i +  Point(*j)\n",
    "    print(i,j)"
   ]
  },
  {
   "cell_type": "code",
   "execution_count": 123,
   "metadata": {},
   "outputs": [
    {
     "name": "stdout",
     "output_type": "stream",
     "text": [
      "(1, 3) (1, 2)\n",
      "(1, 2) (1, 3)\n",
      "(2, 2) (1, 2)\n",
      "(1, 2) (2, 2)\n",
      "(1, 3) (0, 3)\n",
      "(0, 3) (1, 3)\n"
     ]
    },
    {
     "data": {
      "text/plain": [
       "[frozenset({(1, 2), (1, 3)}),\n",
       " frozenset({(0, 3), (1, 3)}),\n",
       " frozenset({(1, 2), (2, 2)})]"
      ]
     },
     "execution_count": 123,
     "metadata": {},
     "output_type": "execute_result"
    }
   ],
   "source": [
    "possible = env.game.get_possible_moves()\n",
    "\n",
    "tempe = set()\n",
    "for i, j in possible:\n",
    "    temp2 =  i +  Point(*j)\n",
    "    \n",
    "    print(temp2,i)\n",
    "    tempe.add(frozenset((temp2, i)))\n",
    "    \n",
    "    \n",
    "list(tempe)\n",
    "        \n",
    "    "
   ]
  },
  {
   "cell_type": "code",
   "execution_count": 124,
   "metadata": {},
   "outputs": [
    {
     "ename": "NameError",
     "evalue": "name 'spaces' is not defined",
     "output_type": "error",
     "traceback": [
      "\u001b[0;31m---------------------------------------------------------------------------\u001b[0m",
      "\u001b[0;31mNameError\u001b[0m                                 Traceback (most recent call last)",
      "\u001b[0;32m<ipython-input-124-a54f587fa3f0>\u001b[0m in \u001b[0;36m<module>\u001b[0;34m\u001b[0m\n\u001b[0;32m----> 1\u001b[0;31m action_space = spaces.Discrete(\n\u001b[0m\u001b[1;32m      2\u001b[0m len(tempe))\n",
      "\u001b[0;31mNameError\u001b[0m: name 'spaces' is not defined"
     ]
    }
   ],
   "source": [
    "action_space = spaces.Discrete(len(tempe))"
   ]
  },
  {
   "cell_type": "code",
   "execution_count": 89,
   "metadata": {},
   "outputs": [
    {
     "name": "stdout",
     "output_type": "stream",
     "text": [
      "[1, 0]\n",
      "[-1, 0]\n",
      "[0, 1]\n",
      "[0, -1]\n"
     ]
    }
   ],
   "source": [
    "\n",
    "for axis_dirs in directions:\n",
    "    for dir_ in axis_dirs:\n",
    "        print(dir_)\n",
    "        #print(Point(*dir_))\n",
    "        #print(type(Point(*dir_)))\n",
    "        #print(Point(*dir_))"
   ]
  },
  {
   "cell_type": "code",
   "execution_count": 37,
   "metadata": {},
   "outputs": [],
   "source": [
    "def get_available_actions(env):\n",
    "    actions = set()\n",
    "    directions = env.get_directions(board_ndim=2)\n",
    "    \n",
    "    for point in env.points_generator():\n",
    "\n",
    "        for axis_dirs in directions:\n",
    "            for dir_ in axis_dirs:\n",
    "                dir_p = Point(*dir_)\n",
    "                new_point = point + dir_p\n",
    "                #print(new_point)\n",
    "                try:\n",
    "                    _ = env.game.board[new_point]\n",
    "                    actions.add(frozenset((point, new_point)))\n",
    "                except OutOfBoardError:\n",
    "                    continue\n",
    "    return list(actions)\n",
    "            \n",
    "\n",
    "            "
   ]
  },
  {
   "cell_type": "code",
   "execution_count": 38,
   "metadata": {},
   "outputs": [
    {
     "data": {
      "text/plain": [
       "[frozenset({(0, 1), (1, 1)}),\n",
       " frozenset({(4, 4), (5, 4)}),\n",
       " frozenset({(5, 3), (5, 4)}),\n",
       " frozenset({(7, 2), (7, 3)}),\n",
       " frozenset({(4, 7), (5, 7)}),\n",
       " frozenset({(4, 5), (4, 6)}),\n",
       " frozenset({(0, 5), (1, 5)}),\n",
       " frozenset({(1, 0), (2, 0)}),\n",
       " frozenset({(2, 2), (3, 2)}),\n",
       " frozenset({(5, 3), (6, 3)}),\n",
       " frozenset({(0, 0), (1, 0)}),\n",
       " frozenset({(2, 5), (2, 6)}),\n",
       " frozenset({(4, 1), (4, 2)}),\n",
       " frozenset({(5, 0), (6, 0)}),\n",
       " frozenset({(2, 0), (2, 1)}),\n",
       " frozenset({(7, 0), (7, 1)}),\n",
       " frozenset({(2, 7), (3, 7)}),\n",
       " frozenset({(3, 4), (4, 4)}),\n",
       " frozenset({(5, 6), (5, 7)}),\n",
       " frozenset({(6, 5), (7, 5)}),\n",
       " frozenset({(6, 7), (7, 7)}),\n",
       " frozenset({(4, 1), (5, 1)}),\n",
       " frozenset({(0, 4), (0, 5)}),\n",
       " frozenset({(1, 3), (1, 4)}),\n",
       " frozenset({(1, 6), (2, 6)}),\n",
       " frozenset({(0, 7), (1, 7)}),\n",
       " frozenset({(3, 0), (3, 1)}),\n",
       " frozenset({(4, 2), (5, 2)}),\n",
       " frozenset({(3, 3), (3, 4)}),\n",
       " frozenset({(2, 3), (3, 3)}),\n",
       " frozenset({(5, 1), (5, 2)}),\n",
       " frozenset({(3, 1), (3, 2)}),\n",
       " frozenset({(0, 3), (1, 3)}),\n",
       " frozenset({(6, 3), (6, 4)}),\n",
       " frozenset({(6, 1), (7, 1)}),\n",
       " frozenset({(3, 0), (4, 0)}),\n",
       " frozenset({(3, 4), (3, 5)}),\n",
       " frozenset({(5, 4), (6, 4)}),\n",
       " frozenset({(3, 7), (4, 7)}),\n",
       " frozenset({(4, 4), (4, 5)}),\n",
       " frozenset({(2, 4), (2, 5)}),\n",
       " frozenset({(3, 6), (3, 7)}),\n",
       " frozenset({(5, 2), (6, 2)}),\n",
       " frozenset({(5, 6), (6, 6)}),\n",
       " frozenset({(1, 7), (2, 7)}),\n",
       " frozenset({(4, 0), (5, 0)}),\n",
       " frozenset({(6, 4), (7, 4)}),\n",
       " frozenset({(7, 1), (7, 2)}),\n",
       " frozenset({(0, 0), (0, 1)}),\n",
       " frozenset({(1, 4), (1, 5)}),\n",
       " frozenset({(0, 6), (0, 7)}),\n",
       " frozenset({(3, 6), (4, 6)}),\n",
       " frozenset({(2, 0), (3, 0)}),\n",
       " frozenset({(3, 5), (3, 6)}),\n",
       " frozenset({(4, 2), (4, 3)}),\n",
       " frozenset({(1, 5), (1, 6)}),\n",
       " frozenset({(2, 5), (3, 5)}),\n",
       " frozenset({(3, 3), (4, 3)}),\n",
       " frozenset({(6, 1), (6, 2)}),\n",
       " frozenset({(6, 6), (7, 6)}),\n",
       " frozenset({(2, 4), (3, 4)}),\n",
       " frozenset({(6, 4), (6, 5)}),\n",
       " frozenset({(2, 3), (2, 4)}),\n",
       " frozenset({(7, 4), (7, 5)}),\n",
       " frozenset({(6, 6), (6, 7)}),\n",
       " frozenset({(7, 3), (7, 4)}),\n",
       " frozenset({(4, 5), (5, 5)}),\n",
       " frozenset({(0, 3), (0, 4)}),\n",
       " frozenset({(2, 6), (2, 7)}),\n",
       " frozenset({(6, 0), (6, 1)}),\n",
       " frozenset({(2, 1), (3, 1)}),\n",
       " frozenset({(5, 5), (6, 5)}),\n",
       " frozenset({(5, 4), (5, 5)}),\n",
       " frozenset({(0, 5), (0, 6)}),\n",
       " frozenset({(1, 0), (1, 1)}),\n",
       " frozenset({(4, 6), (4, 7)}),\n",
       " frozenset({(4, 3), (5, 3)}),\n",
       " frozenset({(7, 6), (7, 7)}),\n",
       " frozenset({(6, 3), (7, 3)}),\n",
       " frozenset({(0, 6), (1, 6)}),\n",
       " frozenset({(5, 0), (5, 1)}),\n",
       " frozenset({(0, 1), (0, 2)}),\n",
       " frozenset({(7, 5), (7, 6)}),\n",
       " frozenset({(6, 2), (7, 2)}),\n",
       " frozenset({(0, 2), (1, 2)}),\n",
       " frozenset({(2, 2), (2, 3)}),\n",
       " frozenset({(0, 2), (0, 3)}),\n",
       " frozenset({(1, 4), (2, 4)}),\n",
       " frozenset({(6, 0), (7, 0)}),\n",
       " frozenset({(5, 1), (6, 1)}),\n",
       " frozenset({(2, 1), (2, 2)}),\n",
       " frozenset({(1, 1), (1, 2)}),\n",
       " frozenset({(5, 5), (5, 6)}),\n",
       " frozenset({(2, 6), (3, 6)}),\n",
       " frozenset({(4, 3), (4, 4)}),\n",
       " frozenset({(6, 2), (6, 3)}),\n",
       " frozenset({(4, 6), (5, 6)}),\n",
       " frozenset({(6, 5), (6, 6)}),\n",
       " frozenset({(0, 4), (1, 4)}),\n",
       " frozenset({(1, 2), (1, 3)}),\n",
       " frozenset({(1, 1), (2, 1)}),\n",
       " frozenset({(4, 0), (4, 1)}),\n",
       " frozenset({(1, 2), (2, 2)}),\n",
       " frozenset({(5, 2), (5, 3)}),\n",
       " frozenset({(1, 5), (2, 5)}),\n",
       " frozenset({(1, 3), (2, 3)}),\n",
       " frozenset({(1, 6), (1, 7)}),\n",
       " frozenset({(3, 5), (4, 5)}),\n",
       " frozenset({(3, 2), (3, 3)}),\n",
       " frozenset({(3, 2), (4, 2)}),\n",
       " frozenset({(5, 7), (6, 7)}),\n",
       " frozenset({(3, 1), (4, 1)})]"
      ]
     },
     "execution_count": 38,
     "metadata": {},
     "output_type": "execute_result"
    }
   ],
   "source": [
    "get_available_actions(env)"
   ]
  },
  {
   "cell_type": "code",
   "execution_count": 2,
   "metadata": {
    "scrolled": true
   },
   "outputs": [
    {
     "data": {
      "text/plain": [
       "[(0, frozenset({(0, 1), (1, 1)})),\n",
       " (1, frozenset({(4, 4), (5, 4)})),\n",
       " (2, frozenset({(5, 3), (5, 4)})),\n",
       " (3, frozenset({(7, 2), (7, 3)})),\n",
       " (4, frozenset({(4, 7), (5, 7)})),\n",
       " (5, frozenset({(4, 5), (4, 6)})),\n",
       " (6, frozenset({(0, 5), (1, 5)})),\n",
       " (7, frozenset({(1, 0), (2, 0)})),\n",
       " (8, frozenset({(2, 2), (3, 2)})),\n",
       " (9, frozenset({(5, 3), (6, 3)})),\n",
       " (10, frozenset({(0, 0), (1, 0)})),\n",
       " (11, frozenset({(2, 5), (2, 6)})),\n",
       " (12, frozenset({(4, 1), (4, 2)})),\n",
       " (13, frozenset({(5, 0), (6, 0)})),\n",
       " (14, frozenset({(2, 0), (2, 1)})),\n",
       " (15, frozenset({(7, 0), (7, 1)})),\n",
       " (16, frozenset({(2, 7), (3, 7)})),\n",
       " (17, frozenset({(3, 4), (4, 4)})),\n",
       " (18, frozenset({(5, 6), (5, 7)})),\n",
       " (19, frozenset({(6, 5), (7, 5)})),\n",
       " (20, frozenset({(6, 7), (7, 7)})),\n",
       " (21, frozenset({(4, 1), (5, 1)})),\n",
       " (22, frozenset({(0, 4), (0, 5)})),\n",
       " (23, frozenset({(1, 3), (1, 4)})),\n",
       " (24, frozenset({(1, 6), (2, 6)})),\n",
       " (25, frozenset({(0, 7), (1, 7)})),\n",
       " (26, frozenset({(3, 0), (3, 1)})),\n",
       " (27, frozenset({(4, 2), (5, 2)})),\n",
       " (28, frozenset({(3, 3), (3, 4)})),\n",
       " (29, frozenset({(2, 3), (3, 3)})),\n",
       " (30, frozenset({(5, 1), (5, 2)})),\n",
       " (31, frozenset({(3, 1), (3, 2)})),\n",
       " (32, frozenset({(0, 3), (1, 3)})),\n",
       " (33, frozenset({(6, 3), (6, 4)})),\n",
       " (34, frozenset({(6, 1), (7, 1)})),\n",
       " (35, frozenset({(3, 0), (4, 0)})),\n",
       " (36, frozenset({(3, 4), (3, 5)})),\n",
       " (37, frozenset({(5, 4), (6, 4)})),\n",
       " (38, frozenset({(3, 7), (4, 7)})),\n",
       " (39, frozenset({(4, 4), (4, 5)})),\n",
       " (40, frozenset({(2, 4), (2, 5)})),\n",
       " (41, frozenset({(3, 6), (3, 7)})),\n",
       " (42, frozenset({(5, 2), (6, 2)})),\n",
       " (43, frozenset({(5, 6), (6, 6)})),\n",
       " (44, frozenset({(1, 7), (2, 7)})),\n",
       " (45, frozenset({(4, 0), (5, 0)})),\n",
       " (46, frozenset({(6, 4), (7, 4)})),\n",
       " (47, frozenset({(7, 1), (7, 2)})),\n",
       " (48, frozenset({(0, 0), (0, 1)})),\n",
       " (49, frozenset({(1, 4), (1, 5)})),\n",
       " (50, frozenset({(0, 6), (0, 7)})),\n",
       " (51, frozenset({(3, 6), (4, 6)})),\n",
       " (52, frozenset({(2, 0), (3, 0)})),\n",
       " (53, frozenset({(3, 5), (3, 6)})),\n",
       " (54, frozenset({(4, 2), (4, 3)})),\n",
       " (55, frozenset({(1, 5), (1, 6)})),\n",
       " (56, frozenset({(2, 5), (3, 5)})),\n",
       " (57, frozenset({(3, 3), (4, 3)})),\n",
       " (58, frozenset({(6, 1), (6, 2)})),\n",
       " (59, frozenset({(6, 6), (7, 6)})),\n",
       " (60, frozenset({(2, 4), (3, 4)})),\n",
       " (61, frozenset({(6, 4), (6, 5)})),\n",
       " (62, frozenset({(2, 3), (2, 4)})),\n",
       " (63, frozenset({(7, 4), (7, 5)})),\n",
       " (64, frozenset({(6, 6), (6, 7)})),\n",
       " (65, frozenset({(7, 3), (7, 4)})),\n",
       " (66, frozenset({(4, 5), (5, 5)})),\n",
       " (67, frozenset({(0, 3), (0, 4)})),\n",
       " (68, frozenset({(2, 6), (2, 7)})),\n",
       " (69, frozenset({(6, 0), (6, 1)})),\n",
       " (70, frozenset({(2, 1), (3, 1)})),\n",
       " (71, frozenset({(5, 5), (6, 5)})),\n",
       " (72, frozenset({(5, 4), (5, 5)})),\n",
       " (73, frozenset({(0, 5), (0, 6)})),\n",
       " (74, frozenset({(1, 0), (1, 1)})),\n",
       " (75, frozenset({(4, 6), (4, 7)})),\n",
       " (76, frozenset({(4, 3), (5, 3)})),\n",
       " (77, frozenset({(7, 6), (7, 7)})),\n",
       " (78, frozenset({(6, 3), (7, 3)})),\n",
       " (79, frozenset({(0, 6), (1, 6)})),\n",
       " (80, frozenset({(5, 0), (5, 1)})),\n",
       " (81, frozenset({(0, 1), (0, 2)})),\n",
       " (82, frozenset({(7, 5), (7, 6)})),\n",
       " (83, frozenset({(6, 2), (7, 2)})),\n",
       " (84, frozenset({(0, 2), (1, 2)})),\n",
       " (85, frozenset({(2, 2), (2, 3)})),\n",
       " (86, frozenset({(0, 2), (0, 3)})),\n",
       " (87, frozenset({(1, 4), (2, 4)})),\n",
       " (88, frozenset({(6, 0), (7, 0)})),\n",
       " (89, frozenset({(5, 1), (6, 1)})),\n",
       " (90, frozenset({(2, 1), (2, 2)})),\n",
       " (91, frozenset({(1, 1), (1, 2)})),\n",
       " (92, frozenset({(5, 5), (5, 6)})),\n",
       " (93, frozenset({(2, 6), (3, 6)})),\n",
       " (94, frozenset({(4, 3), (4, 4)})),\n",
       " (95, frozenset({(6, 2), (6, 3)})),\n",
       " (96, frozenset({(4, 6), (5, 6)})),\n",
       " (97, frozenset({(6, 5), (6, 6)})),\n",
       " (98, frozenset({(0, 4), (1, 4)})),\n",
       " (99, frozenset({(1, 2), (1, 3)})),\n",
       " (100, frozenset({(1, 1), (2, 1)})),\n",
       " (101, frozenset({(4, 0), (4, 1)})),\n",
       " (102, frozenset({(1, 2), (2, 2)})),\n",
       " (103, frozenset({(5, 2), (5, 3)})),\n",
       " (104, frozenset({(1, 5), (2, 5)})),\n",
       " (105, frozenset({(1, 3), (2, 3)})),\n",
       " (106, frozenset({(1, 6), (1, 7)})),\n",
       " (107, frozenset({(3, 5), (4, 5)})),\n",
       " (108, frozenset({(3, 2), (3, 3)})),\n",
       " (109, frozenset({(3, 2), (4, 2)})),\n",
       " (110, frozenset({(5, 7), (6, 7)})),\n",
       " (111, frozenset({(3, 1), (4, 1)}))]"
      ]
     },
     "execution_count": 2,
     "metadata": {},
     "output_type": "execute_result"
    }
   ],
   "source": [
    "list(enumerate(env.get_available_actions()))\n",
    "#observation, reward, done, info = env.step(26)\n",
    "#print(observation)"
   ]
  },
  {
   "cell_type": "code",
   "execution_count": null,
   "metadata": {},
   "outputs": [],
   "source": [
    "obs.shape[1]"
   ]
  },
  {
   "cell_type": "code",
   "execution_count": 3,
   "metadata": {},
   "outputs": [],
   "source": [
    "def one_hot_encoding(obs):\n",
    "    \n",
    "    obs = obs.reshape(obs.shape[1],obs.shape[2]).astype(int)\n",
    "    \n",
    "    grid_onehot = np.zeros(shape=(env.n_shapes, obs.shape[0], obs.shape[1]))\n",
    "    table = {i:i for i in range(0,10)}\n",
    "    \n",
    "    for i in range(obs.shape[0]):\n",
    "        for j in range(obs.shape[1]):\n",
    "            grid_element = obs[i][j]\n",
    "            grid_onehot[table[grid_element]][i][j]=1\n",
    "            \n",
    "    return grid_onehot\n",
    "\n",
    "\n",
    "\n",
    "def plot_obs(observation=None):\n",
    "    \n",
    "    d = {0: (255, 255, 255),   #白色\n",
    "     1: (0, 255, 255),      #黃色\n",
    "     2: (0, 0, 255) ,      #紅色\n",
    "     3: (230,224,176) ,   #灰藍色 \n",
    "     4: (0,0,0), #黑色  \n",
    "     5: (100,100,100),\n",
    "        6:(150,150,150),\n",
    "        7:(200,200,200),\n",
    "        8:(200,150,250),\n",
    "        9:(250,200,150),\n",
    "        10:(150,200,250)}              \n",
    "    \n",
    "    \n",
    "    background = np.zeros((observation.shape[1],observation.shape[2],3), dtype=np.uint8) #黑色的背景\n",
    "\n",
    "    for color in range(env.n_shapes):\n",
    "        result = np.where(one_hot_encoding(observation)[color] == 1)\n",
    "        \n",
    "        listOfCoordinates= list(zip(result[0], result[1]))\n",
    "        \n",
    "        for cord in listOfCoordinates:\n",
    "            background[cord] = d[color]     \n",
    "            \n",
    "    img = Image.fromarray(background, 'RGB')\n",
    "     \n",
    "    \n",
    "    #img = img.resize((500, 800)) \n",
    "    cv2.imshow(\"image\", np.array(img))\n",
    "    \n",
    "    cv2.waitKey(200)\n",
    "    \n",
    "    \n",
    "    \n",
    "def Getlevels(WidthAndHeight,shapes):\n",
    "    LEVELS = [Level(WidthAndHeight,WidthAndHeight,shapes, np.zeros((WidthAndHeight,WidthAndHeight)).tolist())]\n",
    "    return LEVELS"
   ]
  },
  {
   "cell_type": "code",
   "execution_count": 56,
   "metadata": {},
   "outputs": [
    {
     "data": {
      "text/plain": [
       "Discrete(11)"
      ]
     },
     "execution_count": 56,
     "metadata": {},
     "output_type": "execute_result"
    }
   ],
   "source": [
    "env.action_space"
   ]
  },
  {
   "cell_type": "code",
   "execution_count": 62,
   "metadata": {},
   "outputs": [
    {
     "data": {
      "text/plain": [
       "array([[2., 4., 4., 2., 1., 4., 3., 3.],\n",
       "       [3., 1., 0., 0., 3., 0., 3., 2.],\n",
       "       [1., 0., 2., 3., 4., 0., 0., 3.],\n",
       "       [2., 2., 3., 4., 0., 2., 4., 4.],\n",
       "       [4., 1., 1., 3., 1., 3., 1., 1.],\n",
       "       [2., 3., 2., 4., 3., 4., 0., 3.],\n",
       "       [0., 0., 1., 0., 2., 2., 4., 4.],\n",
       "       [2., 1., 2., 3., 2., 3., 1., 1.]])"
      ]
     },
     "execution_count": 62,
     "metadata": {},
     "output_type": "execute_result"
    }
   ],
   "source": [
    "env.get_board()"
   ]
  },
  {
   "cell_type": "code",
   "execution_count": 69,
   "metadata": {},
   "outputs": [
    {
     "data": {
      "text/plain": [
       "[frozenset({(2, 2), (3, 2)}),\n",
       " frozenset({(5, 5), (6, 5)}),\n",
       " frozenset({(6, 2), (6, 3)}),\n",
       " frozenset({(4, 4), (5, 4)}),\n",
       " frozenset({(1, 6), (1, 7)}),\n",
       " frozenset({(1, 4), (1, 5)}),\n",
       " frozenset({(3, 2), (3, 3)}),\n",
       " frozenset({(3, 4), (3, 5)}),\n",
       " frozenset({(2, 4), (3, 4)}),\n",
       " frozenset({(4, 3), (4, 4)}),\n",
       " frozenset({(4, 4), (4, 5)}),\n",
       " frozenset({(1, 1), (2, 1)}),\n",
       " frozenset({(2, 6), (2, 7)})]"
      ]
     },
     "execution_count": 69,
     "metadata": {},
     "output_type": "execute_result"
    }
   ],
   "source": [
    "env.get_validate_actions()"
   ]
  },
  {
   "cell_type": "code",
   "execution_count": 65,
   "metadata": {},
   "outputs": [
    {
     "data": {
      "text/plain": [
       "Discrete(19)"
      ]
     },
     "execution_count": 65,
     "metadata": {},
     "output_type": "execute_result"
    }
   ],
   "source": [
    "env.action_space"
   ]
  },
  {
   "cell_type": "code",
   "execution_count": 77,
   "metadata": {},
   "outputs": [
    {
     "ename": "AttributeError",
     "evalue": "'Match3Env' object has no attribute '__match3_actions'",
     "output_type": "error",
     "traceback": [
      "\u001b[0;31m---------------------------------------------------------------------------\u001b[0m",
      "\u001b[0;31mAttributeError\u001b[0m                            Traceback (most recent call last)",
      "\u001b[0;32m<ipython-input-77-45586f9e0877>\u001b[0m in \u001b[0;36m<module>\u001b[0;34m\u001b[0m\n\u001b[0;32m----> 1\u001b[0;31m \u001b[0mlen\u001b[0m\u001b[0;34m(\u001b[0m\u001b[0menv\u001b[0m\u001b[0;34m.\u001b[0m\u001b[0m__match3_actions\u001b[0m\u001b[0;34m)\u001b[0m\u001b[0;34m\u001b[0m\u001b[0;34m\u001b[0m\u001b[0m\n\u001b[0m",
      "\u001b[0;31mAttributeError\u001b[0m: 'Match3Env' object has no attribute '__match3_actions'"
     ]
    }
   ],
   "source": [
    "len(env.__match3_actions)"
   ]
  },
  {
   "cell_type": "code",
   "execution_count": 79,
   "metadata": {},
   "outputs": [
    {
     "data": {
      "text/plain": [
       "18"
      ]
     },
     "execution_count": 79,
     "metadata": {},
     "output_type": "execute_result"
    }
   ],
   "source": [
    "temp = env.get_validate_actions()\n",
    "len(temp)"
   ]
  },
  {
   "cell_type": "code",
   "execution_count": 62,
   "metadata": {},
   "outputs": [
    {
     "data": {
      "text/plain": [
       "[frozenset({(1, 1), (2, 1)}),\n",
       " frozenset({(3, 1), (3, 2)}),\n",
       " frozenset({(1, 0), (1, 1)})]"
      ]
     },
     "execution_count": 62,
     "metadata": {},
     "output_type": "execute_result"
    }
   ],
   "source": [
    "env.get_validate_actions()"
   ]
  },
  {
   "cell_type": "code",
   "execution_count": 87,
   "metadata": {},
   "outputs": [
    {
     "data": {
      "text/plain": [
       "Discrete(21)"
      ]
     },
     "execution_count": 87,
     "metadata": {},
     "output_type": "execute_result"
    }
   ],
   "source": [
    "env.action_space"
   ]
  },
  {
   "cell_type": "code",
   "execution_count": null,
   "metadata": {},
   "outputs": [],
   "source": [
    "env.__match3_actions = self.get_validate_actions()\n",
    "env.action_space = spaces.Discrete(\n",
    "    len(self.__match3_actions))"
   ]
  },
  {
   "cell_type": "code",
   "execution_count": 9,
   "metadata": {},
   "outputs": [
    {
     "name": "stdout",
     "output_type": "stream",
     "text": [
      "---------------\n",
      "[[[2. 1. 3. 0. 0.]\n",
      "  [1. 2. 2. 3. 2.]\n",
      "  [4. 4. 1. 4. 0.]\n",
      "  [0. 1. 1. 0. 3.]\n",
      "  [3. 0. 0. 2. 3.]]]\n",
      "---------------\n",
      "the swap of coordinate is:  [(1, 3), (1, 4)]\n",
      "---------------\n",
      "[frozenset({(1, 3), (1, 4)}), frozenset({(1, 0), (0, 0)}), frozenset({(3, 3), (4, 3)}), frozenset({(3, 0), (4, 0)}), frozenset({(2, 3), (2, 2)})]\n",
      "---------------\n",
      "frozenset({(1, 3), (1, 4)})\n",
      "---------------\n",
      "[[[2. 1. 3. 0. 0.]\n",
      "  [1. 2. 2. 3. 2.]\n",
      "  [4. 4. 1. 4. 0.]\n",
      "  [0. 1. 1. 0. 3.]\n",
      "  [3. 0. 0. 2. 3.]]] 3 False {}\n",
      "---------------\n",
      "[[[2. 1. 3. 0. 0.]\n",
      "  [1. 2. 2. 3. 2.]\n",
      "  [4. 4. 1. 4. 0.]\n",
      "  [0. 1. 1. 0. 3.]\n",
      "  [3. 0. 0. 2. 3.]]]\n",
      "---------------\n",
      "the swap of coordinate is:  [(1, 2), (2, 2)]\n",
      "---------------\n",
      "[frozenset({(0, 1), (0, 2)}), frozenset({(2, 1), (2, 2)}), frozenset({(1, 3), (1, 4)}), frozenset({(1, 2), (1, 1)}), frozenset({(3, 3), (4, 3)}), frozenset({(3, 0), (4, 0)}), frozenset({(2, 4), (1, 4)}), frozenset({(2, 3), (2, 2)}), frozenset({(2, 3), (2, 4)}), frozenset({(2, 3), (3, 3)}), frozenset({(1, 2), (2, 2)})]\n",
      "---------------\n",
      "frozenset({(1, 2), (2, 2)})\n",
      "---------------\n",
      "[[[2. 0. 4. 0. 0.]\n",
      "  [1. 1. 3. 0. 3.]\n",
      "  [4. 4. 1. 4. 0.]\n",
      "  [0. 1. 1. 0. 3.]\n",
      "  [3. 0. 0. 2. 3.]]] 3 False {}\n",
      "---------------\n",
      "[[[2. 0. 4. 0. 0.]\n",
      "  [1. 1. 3. 0. 3.]\n",
      "  [4. 4. 1. 4. 0.]\n",
      "  [0. 1. 1. 0. 3.]\n",
      "  [3. 0. 0. 2. 3.]]]\n",
      "---------------\n",
      "the swap of coordinate is:  [(1, 0), (0, 0)]\n",
      "---------------\n",
      "ffdsfdsfdsfdsf\n",
      "[frozenset({(2, 1), (2, 2)}), frozenset({(1, 3), (1, 4)}), frozenset({(3, 3), (4, 3)}), frozenset({(3, 0), (4, 0)}), frozenset({(2, 4), (1, 4)}), frozenset({(2, 3), (2, 2)}), frozenset({(2, 3), (2, 4)}), frozenset({(2, 3), (3, 3)}), frozenset({(1, 2), (2, 2)})]\n",
      "---------------\n",
      "frozenset({(1, 0), (0, 0)})\n",
      "---------------\n",
      "[[[4. 2. 4. 0. 0.]\n",
      "  [2. 0. 4. 0. 3.]\n",
      "  [4. 4. 3. 4. 0.]\n",
      "  [0. 1. 1. 0. 3.]\n",
      "  [3. 0. 0. 2. 3.]]] 0 True {}\n"
     ]
    }
   ],
   "source": [
    "from gym_match3.envs import Match3Env\n",
    "import gym\n",
    "from PIL import Image\n",
    "import cv2\n",
    "import numpy as np\n",
    "   \n",
    "#...\n",
    "level_x=10   # ...\n",
    "level_y=5\n",
    "\n",
    "env = Match3Env(levels=Match3Levels(Getlevels(5,5)))\n",
    "\n",
    "for i_episode in range(1): #玩一次遊戲\n",
    "     \n",
    "    observation = env.reset() \n",
    "    \n",
    "    while True:\n",
    "    \n",
    "        \n",
    "        action = env.action_space.sample()\n",
    "\n",
    "        print('---------------')\n",
    "\n",
    "        print(observation)\n",
    "        \n",
    "        print('---------------')\n",
    "        \n",
    "        \n",
    "        print('the swap of coordinate is: ',list(env.get_available_actions()[action]))\n",
    "        print('---------------')\n",
    "        \n",
    "        if env.get_action(action) not in env.get_validate_actions():\n",
    "            print(\"ffdsfdsfdsfdsf\")\n",
    "        \n",
    "        \n",
    "        print(env.get_validate_actions())\n",
    "        \n",
    "        \n",
    "        \n",
    "        \n",
    "        observation, reward, done, info = env.step(action)\n",
    "        print('---------------')\n",
    "        print(env.get_action(action))\n",
    "        #env.get_validate_actions()\n",
    "        print('---------------')\n",
    "        print(observation, reward, done, info)\n",
    "        \n",
    "        \n",
    "        \n",
    "        #print(env.get_available_actions())\n",
    "        #print('the swap of coordinate is: ',list(env.get_available_actions()[action]))\n",
    "        \n",
    "        #print(observation.shape)\n",
    "\n",
    "        #print(observation)\n",
    "        #print(env.get_board())\n",
    "    \n",
    "        #print(env.action_space)\n",
    "        #print(env.game.get_possible_moves())\n",
    "        #plot_obs(observation)\n",
    "\n",
    "        #print('the swap of coordinate is: ',list(env.get_available_actions()[action]))\n",
    "        #print('reward:', reward)\n",
    "\n",
    "        if done:           \n",
    "            break\n",
    "env.close()"
   ]
  },
  {
   "cell_type": "code",
   "execution_count": 9,
   "metadata": {},
   "outputs": [
    {
     "data": {
      "text/plain": [
       "frozenset({(0, 0), (1, 0)})"
      ]
     },
     "execution_count": 9,
     "metadata": {},
     "output_type": "execute_result"
    }
   ],
   "source": [
    "env.get_action(action)"
   ]
  },
  {
   "cell_type": "code",
   "execution_count": 47,
   "metadata": {},
   "outputs": [
    {
     "data": {
      "text/plain": [
       "[frozenset({(1, 0), (2, 0)}),\n",
       " frozenset({(3, 5), (3, 6)}),\n",
       " frozenset({(1, 3), (1, 4)}),\n",
       " frozenset({(3, 4), (4, 4)}),\n",
       " frozenset({(2, 5), (3, 5)}),\n",
       " frozenset({(3, 5), (4, 5)}),\n",
       " frozenset({(3, 2), (3, 3)}),\n",
       " frozenset({(1, 3), (2, 3)}),\n",
       " frozenset({(3, 4), (3, 5)}),\n",
       " frozenset({(6, 5), (6, 6)}),\n",
       " frozenset({(0, 4), (1, 4)}),\n",
       " frozenset({(4, 5), (4, 6)}),\n",
       " frozenset({(6, 3), (7, 3)}),\n",
       " frozenset({(4, 4), (4, 5)}),\n",
       " frozenset({(3, 6), (4, 6)}),\n",
       " frozenset({(3, 6), (3, 7)}),\n",
       " frozenset({(4, 6), (4, 7)}),\n",
       " frozenset({(0, 4), (0, 5)})]"
      ]
     },
     "execution_count": 47,
     "metadata": {},
     "output_type": "execute_result"
    }
   ],
   "source": [
    "env.get_validate_actions()"
   ]
  }
 ],
 "metadata": {
  "kernelspec": {
   "display_name": "Python 3",
   "language": "python",
   "name": "python3"
  },
  "language_info": {
   "codemirror_mode": {
    "name": "ipython",
    "version": 3
   },
   "file_extension": ".py",
   "mimetype": "text/x-python",
   "name": "python",
   "nbconvert_exporter": "python",
   "pygments_lexer": "ipython3",
   "version": "3.7.6"
  }
 },
 "nbformat": 4,
 "nbformat_minor": 4
}
